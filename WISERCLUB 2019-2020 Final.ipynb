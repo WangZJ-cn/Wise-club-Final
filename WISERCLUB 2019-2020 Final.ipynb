{
 "cells": [
  {
   "cell_type": "markdown",
   "metadata": {
    "colab_type": "text",
    "id": "YVqd8CcNe0Kz"
   },
   "source": [
    "# WISERCLUB\n",
    "### 2019-2020 Final\n",
    "### Author:王梓鉴 (Wang Zijian)\n",
    "\n",
    "#### Part 1"
   ]
  },
  {
   "cell_type": "code",
   "execution_count": 1,
   "metadata": {
    "colab": {
     "base_uri": "https://localhost:8080/",
     "height": 138
    },
    "colab_type": "code",
    "id": "NBeDxwide0K3",
    "outputId": "2778c058-cca6-4276-d74a-72dc2ee27433"
   },
   "outputs": [],
   "source": [
    "import numpy as np\n",
    "import pandas as pd\n",
    "import matplotlib.pyplot as plt\n",
    "import time\n",
    "import datetime\n",
    "# deal with some cells that reqiure a large memory（sometimes encounter memory error on local computer） by colab\n",
    "# from google.colab import drive \n",
    "# drive.mount('/content/gdrive')\n",
    "# %cd /content/gdrive/My\\ Drive"
   ]
  },
  {
   "cell_type": "code",
   "execution_count": 80,
   "metadata": {
    "colab": {
     "base_uri": "https://localhost:8080/",
     "height": 353
    },
    "colab_type": "code",
    "id": "I2WmHRy_e0LC",
    "outputId": "aff282b5-74cf-44d6-a114-f0dfd5dc9961"
   },
   "outputs": [
    {
     "name": "stdout",
     "output_type": "stream",
     "text": [
      "<class 'pandas.core.frame.DataFrame'>\n",
      "RangeIndex: 2351855 entries, 0 to 2351854\n",
      "Data columns (total 15 columns):\n",
      "Unnamed: 0                 int64\n",
      "Unnamed: 0.1               int64\n",
      "dt                         object\n",
      "phone_no                   int64\n",
      "member_id                  int64\n",
      "commodity_code             object\n",
      "commodity_name             object\n",
      "commodity_origin_money     float64\n",
      "coupon_id                  float64\n",
      "coupon_money               float64\n",
      "one_category_name          object\n",
      "two_category_name          object\n",
      "commodity_income           float64\n",
      "pay_money                  float64\n",
      "coffeestore_share_money    float64\n",
      "dtypes: float64(6), int64(4), object(5)\n",
      "memory usage: 269.1+ MB\n"
     ]
    }
   ],
   "source": [
    "#read from local computer\n",
    "data = pd.read_csv('data.csv') \n",
    "df = pd.read_csv('data.csv')\n",
    "holiday = pd.read_csv('holiday.csv')\n",
    "# #read from google drive\n",
    "# data = pd.read_csv('/content/gdrive/My Drive/Colab Notebooks/data.csv') \n",
    "# df = pd.read_csv('/content/gdrive/My Drive/Colab Notebooks/data.csv')\n",
    "data.info()"
   ]
  },
  {
   "cell_type": "code",
   "execution_count": 182,
   "metadata": {
    "colab": {
     "base_uri": "https://localhost:8080/",
     "height": 34
    },
    "colab_type": "code",
    "id": "CqelEtcpe0LJ",
    "outputId": "94e82f66-696e-47ac-f51d-117882b5840c"
   },
   "outputs": [
    {
     "name": "stdout",
     "output_type": "stream",
     "text": [
      "timespan is from 2019-01-20 to 2019-03-01\n"
     ]
    }
   ],
   "source": [
    "# seeing that the dtype of dt is obeject\n",
    "df['dt'] = pd.to_datetime(df['dt']).dt.date\n",
    "\n",
    "print ('timespan is from', df['dt'].min(), 'to', df['dt'].max())"
   ]
  },
  {
   "cell_type": "code",
   "execution_count": 183,
   "metadata": {
    "colab": {
     "base_uri": "https://localhost:8080/",
     "height": 441
    },
    "colab_type": "code",
    "id": "G-H2iD6he0LQ",
    "outputId": "efec1034-dede-4fa1-d555-b8bbced3bfef"
   },
   "outputs": [
    {
     "data": {
      "image/png": "[encoded data removed]",
      "text/plain": [
       "<Figure size 720x360 with 1 Axes>"
      ]
     },
     "metadata": {},
     "output_type": "display_data"
    }
   ],
   "source": [
    "count = df['dt'].value_counts()\n",
    "count = pd.DataFrame(count)\n",
    "plt.figure(figsize = (10 , 5))\n",
    "plt.bar(count.index.values , np.array(count['dt']))\n",
    "plt.show()"
   ]
  },
  {
   "cell_type": "code",
   "execution_count": 35,
   "metadata": {
    "colab": {},
    "colab_type": "code",
    "id": "40gH5AnJe0LX"
   },
   "outputs": [],
   "source": [
    "#seeing that the variation of the orders has a period of 7days,now count the number of weekdays and weekends\n",
    "count['week'] = 0\n",
    "for i in range(len(count)):\n",
    "    count.iloc[i, 1] = count.index.values[i].isoweekday()"
   ]
  },
  {
   "cell_type": "code",
   "execution_count": 36,
   "metadata": {
    "colab": {
     "base_uri": "https://localhost:8080/",
     "height": 34
    },
    "colab_type": "code",
    "id": "RQN6Aod0e0Le",
    "outputId": "2da502c4-ef74-4ce8-f37d-7178a9bdf90f"
   },
   "outputs": [
    {
     "name": "stdout",
     "output_type": "stream",
     "text": [
      "41\n"
     ]
    }
   ],
   "source": [
    "print(len(count))"
   ]
  },
  {
   "cell_type": "code",
   "execution_count": 37,
   "metadata": {
    "colab": {
     "base_uri": "https://localhost:8080/",
     "height": 320
    },
    "colab_type": "code",
    "id": "5cOYwzmQe0Lp",
    "outputId": "d0590b33-5c57-46a7-b367-e301bcdfdd70"
   },
   "outputs": [
    {
     "data": {
      "image/png": "[encoded data removed]",
      "text/plain": [
       "<Figure size 504x360 with 1 Axes>"
      ]
     },
     "metadata": {},
     "output_type": "display_data"
    }
   ],
   "source": [
    "# seeing that the data almost 6 compelet weeks\n",
    "week = count.groupby(['week']).sum()\n",
    "week = pd.DataFrame(week)\n",
    "plt.figure(figsize = (7, 5))\n",
    "plt.bar(week.index.values, np.array(week['dt']))\n",
    "plt.show()"
   ]
  },
  {
   "cell_type": "markdown",
   "metadata": {
    "colab_type": "text",
    "id": "raHaWueLe0Lv"
   },
   "source": [
    "we do need to design two different strategies for sales in workdays and sales in weekends."
   ]
  },
  {
   "cell_type": "code",
   "execution_count": 38,
   "metadata": {
    "colab": {
     "base_uri": "https://localhost:8080/",
     "height": 34
    },
    "colab_type": "code",
    "id": "m9KfPI6_e0Lw",
    "outputId": "5c3765ce-3a62-4a7b-a346-32a50014db0a"
   },
   "outputs": [
    {
     "name": "stdout",
     "output_type": "stream",
     "text": [
      "the number of users is 466886\n"
     ]
    }
   ],
   "source": [
    "print('the number of users is', len(data.groupby(['member_id']).count()))"
   ]
  },
  {
   "cell_type": "code",
   "execution_count": 39,
   "metadata": {
    "colab": {
     "base_uri": "https://localhost:8080/",
     "height": 34
    },
    "colab_type": "code",
    "id": "UYluLscTe0L1",
    "outputId": "431fd66f-e0bc-4e67-937d-2dc63e1a5d81"
   },
   "outputs": [
    {
     "name": "stdout",
     "output_type": "stream",
     "text": [
      "['拿铁' '榛果拿铁' '澳瑞白' '标准美式' '香草拿铁' '卡布奇诺' '摩卡' '加浓美式' '焦糖玛奇朵' '焦糖拿铁']\n"
     ]
    }
   ],
   "source": [
    "product = data.groupby(['commodity_name']).count()\n",
    "top = product.sort_values('Unnamed: 0.1', ascending = False)\n",
    "print(top.head(10).index.values)"
   ]
  },
  {
   "cell_type": "code",
   "execution_count": 40,
   "metadata": {
    "colab": {
     "base_uri": "https://localhost:8080/",
     "height": 1000
    },
    "colab_type": "code",
    "id": "--EekSN9e0L-",
    "outputId": "769e4a77-1564-4da4-929b-f322fbab4493"
   },
   "outputs": [
    {
     "data": {
      "image/png": "[encoded data removed]",
      "text/plain": [
       "<Figure size 720x432 with 1 Axes>"
      ]
     },
     "metadata": {},
     "output_type": "display_data"
    }
   ],
   "source": [
    "font = {'family' : 'SimHei',\n",
    "        'weight' : 'normal',\n",
    "        'size'  : '10'}\n",
    "plt.rc('font', **font)        \n",
    "plt.rc('axes', unicode_minus=False)\n",
    "plt.figure(figsize=(10,6))\n",
    "plt.bar(top.head(10).index.values, top['Unnamed: 0.1'][:10])\n",
    "plt.show()"
   ]
  },
  {
   "cell_type": "code",
   "execution_count": 48,
   "metadata": {
    "colab": {},
    "colab_type": "code",
    "id": "C2MCTIfse0MD"
   },
   "outputs": [],
   "source": [
    "commodity_income = np.array(data['commodity_income'])\n",
    "commodity_origin_money = np.array(data['commodity_origin_money'])\n",
    "discount_rate = commodity_income / commodity_origin_money\n",
    "\n",
    "discount_rate = pd.DataFrame(discount_rate.T, columns = ['discount_rate'])\n",
    "\n",
    "data = pd.concat([data, discount_rate], axis=1, join='outer')"
   ]
  },
  {
   "cell_type": "code",
   "execution_count": 42,
   "metadata": {
    "colab": {},
    "colab_type": "code",
    "id": "gDIKyyJBe0MJ"
   },
   "outputs": [],
   "source": [
    "day_discount = pd.DataFrame(np.zeros(shape = (len(count), 2)))"
   ]
  },
  {
   "cell_type": "code",
   "execution_count": 43,
   "metadata": {
    "colab": {
     "base_uri": "https://localhost:8080/",
     "height": 151
    },
    "colab_type": "code",
    "id": "kFsr2Q8Re0MN",
    "outputId": "71ba4c60-4ea4-456f-a215-9343b134cb18"
   },
   "outputs": [
    {
     "name": "stdout",
     "output_type": "stream",
     "text": [
      "                dt  week\n",
      "2019-01-20   69859     7\n",
      "2019-01-21  117686     1\n",
      "2019-01-22  118409     2\n",
      "               dt  week\n",
      "2019-02-27  48970     3\n",
      "2019-02-28  51272     4\n",
      "2019-03-01  53279     5\n"
     ]
    }
   ],
   "source": [
    "print(count.sort_index().head(3))\n",
    "print(count.sort_index().tail(3))"
   ]
  },
  {
   "cell_type": "markdown",
   "metadata": {
    "colab_type": "text",
    "id": "t66KaOc9e0MW"
   },
   "source": [
    "the last week is not a compelete week."
   ]
  },
  {
   "cell_type": "code",
   "execution_count": 44,
   "metadata": {
    "colab": {},
    "colab_type": "code",
    "id": "fVNht1L6e0MY"
   },
   "outputs": [],
   "source": [
    "day_mean = data.groupby(['dt']).mean()\n",
    "\n",
    "week_discount = []\n",
    "for i in range(int(len(day_mean) / 7) +1):\n",
    "    if len(day_discount) - i - 1 <7:\n",
    "        week_discount.append(day_mean[i:len(day_discount) - 1]['discount_rate'].mean())\n",
    "        break\n",
    "    week_discount.append(day_mean[i:i+7]['discount_rate'].mean())\n"
   ]
  },
  {
   "cell_type": "code",
   "execution_count": 45,
   "metadata": {
    "colab": {
     "base_uri": "https://localhost:8080/",
     "height": 265
    },
    "colab_type": "code",
    "id": "-p_PLl3Ae0Mg",
    "outputId": "cf4a998b-6853-4e5f-a737-85a05f0d0b77"
   },
   "outputs": [
    {
     "data": {
      "image/png": "[encoded data removed]",
      "text/plain": [
       "<Figure size 432x288 with 1 Axes>"
      ]
     },
     "metadata": {},
     "output_type": "display_data"
    }
   ],
   "source": [
    "plt.figure(figsize = (6 ,4))\n",
    "plt.plot(range(1 ,len(week_discount) +1), week_discount, 'bo-')\n",
    "plt.show()"
   ]
  },
  {
   "cell_type": "code",
   "execution_count": 46,
   "metadata": {
    "colab": {},
    "colab_type": "code",
    "id": "tkx6q6fve0Mo"
   },
   "outputs": [],
   "source": [
    "# def day_retention_rate(year, month, day, data):\n",
    "#     \"\"\"\n",
    "#     required month's and day's type does NOT include 0 before the number\n",
    "#     \"\"\"\n",
    "#     date = datetime.date(year, month, day)\n",
    "#     total_num = data.groupby(['dt']).count().loc[date,'Unnamed: 0']\n",
    "#     two_day_data = data[data['dt'].isin([date, date + datetime.timedelta(-1)])]\n",
    "#     A = two_day_data.groupby(['member_id']).count()\n",
    "#     retention_num = len(A.loc[A['Unnamed: 0'] >= 2])\n",
    "#     return retention_num / total_num\n",
    "\n",
    "#considering that many members buy the commodity over ONE time per day \n",
    "def day_retention_rate(year, month, day, data):\n",
    "    \"\"\"\n",
    "    required month's and day's type does NOT include 0 before the number\n",
    "    \"\"\"\n",
    "    date = datetime.date(year, month, day)\n",
    "    today = data[data['dt'].isin([str(date)])]\n",
    "    today_num = len(today.groupby(['member_id']).count())\n",
    "    tomorrow = data[data['dt'].isin([str(date + datetime.timedelta(1))])]\n",
    "    retention = tomorrow[tomorrow.isin(today.groupby(['member_id']).count().index.values)]\n",
    "    retention_num = len(retention.groupby(['member_id']).count())\n",
    "    \n",
    "    return retention_num / today_num"
   ]
  },
  {
   "cell_type": "code",
   "execution_count": 47,
   "metadata": {
    "colab": {
     "base_uri": "https://localhost:8080/",
     "height": 34
    },
    "colab_type": "code",
    "id": "2Y1ueopqe0Mu",
    "outputId": "62ee0b44-2b87-40db-8420-22667336eadd"
   },
   "outputs": [
    {
     "data": {
      "text/plain": [
       "0.06983429151166723"
      ]
     },
     "execution_count": 47,
     "metadata": {},
     "output_type": "execute_result"
    }
   ],
   "source": [
    "day_retention_rate(2019, 2, 9, data)"
   ]
  },
  {
   "cell_type": "code",
   "execution_count": 48,
   "metadata": {
    "colab": {},
    "colab_type": "code",
    "id": "-X6gj6e2e0Mx"
   },
   "outputs": [],
   "source": [
    "def week_retention_rate(year, month, day, data):\n",
    "    \"\"\"\n",
    "    required month's and day's type does NOT include 0 before the number\n",
    "    \"\"\"\n",
    "    date = datetime.date(year, month, day)\n",
    "    today = data[data['dt'].isin([str(date)])]\n",
    "    today_num = len(today.groupby(['member_id']).count())\n",
    "    week = [str(date + datetime.timedelta(i)) for i in range(1,8)]\n",
    "    next_week = data[data['dt'].isin(week)]\n",
    "    retention = next_week[next_week.isin(today.groupby(['member_id']).count().index.values)]\n",
    "    retention_num = len(retention.groupby(['member_id']).count())\n",
    "    \n",
    "    return retention_num / today_num"
   ]
  },
  {
   "cell_type": "code",
   "execution_count": 49,
   "metadata": {
    "colab": {
     "base_uri": "https://localhost:8080/",
     "height": 34
    },
    "colab_type": "code",
    "id": "uWboDLGoe0M0",
    "outputId": "17629e51-c589-41b0-8f84-d8cf67c684b7"
   },
   "outputs": [
    {
     "data": {
      "text/plain": [
       "0.3371660466689212"
      ]
     },
     "execution_count": 49,
     "metadata": {},
     "output_type": "execute_result"
    }
   ],
   "source": [
    "week_retention_rate(2019, 2, 9, data)"
   ]
  },
  {
   "cell_type": "code",
   "execution_count": 50,
   "metadata": {
    "colab": {},
    "colab_type": "code",
    "id": "ibuL66Tne0M4"
   },
   "outputs": [],
   "source": [
    "def new_users_week_retention_rate(year, month, day, data):\n",
    "    \"\"\"\n",
    "    required month's and day's type does NOT include 0 before the number\n",
    "    \"\"\"\n",
    "    date = datetime.date(year, month, day)\n",
    "    \n",
    "    begin = pd.to_datetime(data['dt']).dt.date.min()\n",
    "    before = [str(begin + datetime.timedelta(i)) for i in range(int(str(date - begin)[0]))]\n",
    "    old = data[data['dt'].isin(before)]\n",
    "    old_users = old.groupby(['member_id']).count().index.values\n",
    "    today = data[data['dt'].isin([str(date)])]\n",
    "    today_users = today.groupby(['member_id']).count().index.values\n",
    "    \n",
    "    #find member id in today_users and not in old_users   reference:https://cloud.tencent.com/developer/ask/31557\n",
    "    new_users_index = np.where(pd.Index(old_users).get_indexer(today_users) >= 0)[0]  #返回A中B也含有的元素在A中的索引值（从0开始）\n",
    "    new_users = np.delete(today_users, new_users_index)\n",
    "    \n",
    "    week = [str(date + datetime.timedelta(i)) for i in range(1,8)]\n",
    "    next_week = data[data['dt'].isin(week)]\n",
    "    \n",
    "    retention = next_week[next_week['member_id'].isin(new_users)]\n",
    "    retention_num = retention.groupby(['member_id']).count().index.values.size\n",
    "    \n",
    "    return retention_num / len(new_users)"
   ]
  },
  {
   "cell_type": "code",
   "execution_count": 51,
   "metadata": {
    "colab": {
     "base_uri": "https://localhost:8080/",
     "height": 34
    },
    "colab_type": "code",
    "id": "h9pUOHxBe0NB",
    "outputId": "bc3343df-e3f6-4ba7-8645-b0992be4292c"
   },
   "outputs": [
    {
     "data": {
      "text/plain": [
       "0.2741032552353307"
      ]
     },
     "execution_count": 51,
     "metadata": {},
     "output_type": "execute_result"
    }
   ],
   "source": [
    "new_users_week_retention_rate(2019, 2, 9, data)"
   ]
  },
  {
   "cell_type": "code",
   "execution_count": 52,
   "metadata": {
    "colab": {},
    "colab_type": "code",
    "id": "9Vpn2e99e0NH"
   },
   "outputs": [],
   "source": [
    "def first_day_of_week(date):\n",
    "    return date - datetime.timedelta(date.isoweekday()-1)\n",
    "def week_list(date):\n",
    "    first_day = first_day_of_week(date)\n",
    "    week_date = [str(first_day + datetime.timedelta(i)) for i in range(7)]\n",
    "    \n",
    "    return week_date\n",
    "def one_week_new_uesers_retention_rate(year, month, day, data):\n",
    "    \"\"\"\n",
    "    required month's and day's type does NOT include 0 before the number\n",
    "    caculate the week of the given date\n",
    "    \"\"\"\n",
    "    date = datetime.date(year, month, day)\n",
    "    week_date = week_list(date)\n",
    "    week = data[data['dt'].isin(week_date)]\n",
    "    week_users = week.groupby(['member_id']).count().index.values\n",
    "    \n",
    "    begin = pd.to_datetime(data['dt']).dt.date.min()\n",
    "    before = [str(begin + datetime.timedelta(i)) for i in range(int(str(first_day_of_week(date) - begin)[0]))]\n",
    "    old = data[data['dt'].isin(before)]\n",
    "    old_users = old.groupby(['member_id']).count().index.values\n",
    "\n",
    "    new_users_index = np.where(pd.Index(old_users).get_indexer(week_users) >= 0)[0]\n",
    "    new_users = np.delete(week_users, new_users_index)\n",
    "\n",
    "    retention = week[week['member_id'].isin(new_users)].groupby(['member_id']).count()\n",
    "    retention_num = len(retention[retention['Unnamed: 0'] >= 2])\n",
    "    \n",
    "    return retention_num / len(new_users)"
   ]
  },
  {
   "cell_type": "code",
   "execution_count": 53,
   "metadata": {
    "colab": {
     "base_uri": "https://localhost:8080/",
     "height": 34
    },
    "colab_type": "code",
    "id": "oRhupYVFe0NO",
    "outputId": "f6cf2851-3635-4ee8-cc93-a87b5dd92824"
   },
   "outputs": [
    {
     "data": {
      "text/plain": [
       "0.3753129863977803"
      ]
     },
     "execution_count": 53,
     "metadata": {},
     "output_type": "execute_result"
    }
   ],
   "source": [
    "one_week_new_uesers_retention_rate(2019, 2, 9, data)"
   ]
  },
  {
   "cell_type": "code",
   "execution_count": 54,
   "metadata": {
    "colab": {},
    "colab_type": "code",
    "id": "Yd5aPWY3e0NS"
   },
   "outputs": [],
   "source": [
    "user = data.groupby(['member_id']).count()\n",
    "active_user = user[user['Unnamed: 0'] >= 5]\n",
    "\n",
    "active_user = pd.DataFrame(active_user.loc[:,'Unnamed: 0'])\n",
    "active_user.columns = ['amount']"
   ]
  },
  {
   "cell_type": "code",
   "execution_count": 55,
   "metadata": {
    "colab": {
     "base_uri": "https://localhost:8080/",
     "height": 168
    },
    "colab_type": "code",
    "id": "uGua4JWne0NW",
    "outputId": "db96b69f-a6b3-4c9f-8aa8-0c78992bc367"
   },
   "outputs": [
    {
     "name": "stdout",
     "output_type": "stream",
     "text": [
      "              amount\n",
      "count  166308.000000\n",
      "mean       10.418188\n",
      "std         7.599244\n",
      "min         5.000000\n",
      "25%         6.000000\n",
      "50%         8.000000\n",
      "75%        12.000000\n",
      "max       585.000000\n"
     ]
    }
   ],
   "source": [
    "print(active_user.describe())"
   ]
  },
  {
   "cell_type": "code",
   "execution_count": 56,
   "metadata": {
    "colab": {},
    "colab_type": "code",
    "id": "9R-aPXfEe0Na"
   },
   "outputs": [],
   "source": [
    "active_user.to_csv('ActiveUser.csv')"
   ]
  },
  {
   "cell_type": "markdown",
   "metadata": {
    "colab_type": "text",
    "id": "s4wtHkC3e0Ne"
   },
   "source": [
    "#### Part 2"
   ]
  },
  {
   "cell_type": "code",
   "execution_count": 81,
   "metadata": {
    "colab": {},
    "colab_type": "code",
    "id": "Pw2dC36Me0Nf"
   },
   "outputs": [],
   "source": [
    "data = data.drop(data.columns[0], axis=1)"
   ]
  },
  {
   "cell_type": "code",
   "execution_count": 6,
   "metadata": {
    "colab": {},
    "colab_type": "code",
    "id": "vn-HleVBe0Nr"
   },
   "outputs": [],
   "source": [
    "#the memory usage is too large though on colab, so caculate 1 million pieces of data individually\n",
    "user_item1 = pd.pivot_table(user_item[0 : 1000000], index = 'phone_no', columns = 'commodity_name', aggfunc = np.count_nonzero, fill_value = 0) \n",
    "# user_item2 = pd.pivot_table(user_item[1000001 : 2000000], index = 'phone_no', columns = 'commodity_name', aggfunc = np.count_nonzero, fill_value = 0)\n",
    "# user_item3 = pd.pivot_table(user_item[2000001 : len(data)], index = 'phone_no', columns = 'commodity_name', aggfunc = np.count_nonzero, fill_value = 0)  "
   ]
  },
  {
   "cell_type": "code",
   "execution_count": 82,
   "metadata": {
    "colab": {},
    "colab_type": "code",
    "id": "xReylCOyOlP6"
   },
   "outputs": [],
   "source": [
    "#or on local computer: delete other unused columns\n",
    "user_item = pd.concat([data['phone_no'], data['commodity_name']], axis=1, join='outer')\n",
    "user_item_table = pd.pivot_table(user_item, index = 'phone_no', columns = 'commodity_name', aggfunc = np.count_nonzero, fill_value = 0)"
   ]
  },
  {
   "cell_type": "code",
   "execution_count": 8,
   "metadata": {
    "colab": {
     "base_uri": "https://localhost:8080/",
     "height": 1000
    },
    "colab_type": "code",
    "id": "_bja5laUP2Ec",
    "outputId": "9bcd953e-1456-48c7-e970-c66bd05e52b9"
   },
   "outputs": [
    {
     "data": {
      "text/plain": [
       "186260960"
      ]
     },
     "execution_count": 8,
     "metadata": {},
     "output_type": "execute_result"
    }
   ],
   "source": [
    "user_item1.memory_usage().sum() #a quarter of the whole dataset"
   ]
  },
  {
   "cell_type": "code",
   "execution_count": 9,
   "metadata": {
    "colab": {
     "base_uri": "https://localhost:8080/",
     "height": 1000
    },
    "colab_type": "code",
    "id": "IQCFkSSle0N3",
    "outputId": "cce4994c-7603-45db-a28c-16feacca45cc"
   },
   "outputs": [
    {
     "data": {
      "text/plain": [
       "276396512"
      ]
     },
     "execution_count": 9,
     "metadata": {},
     "output_type": "execute_result"
    }
   ],
   "source": [
    "user_item_table.memory_usage().sum() # the whole dataset"
   ]
  },
  {
   "cell_type": "markdown",
   "metadata": {
    "colab_type": "text",
    "id": "HtR_uZ8WQitv"
   },
   "source": [
    "I want to have a taste of 灌汤包, NFC鲜榨荔枝汁 and 虾仁炒饭 in luckin. jpg"
   ]
  },
  {
   "cell_type": "code",
   "execution_count": null,
   "metadata": {
    "colab": {},
    "colab_type": "code",
    "id": "nPWQ30E_MG2Y"
   },
   "outputs": [],
   "source": [
    "user_date = pd.concat([data['phone_no'], data['dt']], axis=1, join='outer')\n",
    "user_date_table = pd.pivot_table(user_date, index = 'phone_no', columns = 'dt', aggfunc = np.count_nonzero, fill_value = 0)\n",
    "\n",
    "print(user_date_table.columns)"
   ]
  },
  {
   "cell_type": "code",
   "execution_count": null,
   "metadata": {},
   "outputs": [],
   "source": [
    "# saving the variables\n",
    "from sklearn.externals import joblib\n",
    "# save\n",
    "joblib.dump(user_date_table, 'table.pkl') "
   ]
  },
  {
   "cell_type": "code",
   "execution_count": null,
   "metadata": {},
   "outputs": [],
   "source": [
    "# imoprt\n",
    "table = joblib.load('table.pkl')"
   ]
  },
  {
   "cell_type": "markdown",
   "metadata": {},
   "source": [
    "#### Part 3 & Part 2.3(partly)"
   ]
  },
  {
   "cell_type": "code",
   "execution_count": 147,
   "metadata": {},
   "outputs": [],
   "source": [
    "#The time span is 41 days, so omit the last day, 2019-03-01. That means taking the first 40 days as features and the 41st day as the target.\n",
    "A = np.array(user_date_table)\n",
    "dataset = (A[:,0] + A[:,1]).reshape(len(A),1)\n",
    "for i in range(1,20):\n",
    "    dataset = np.column_stack([dataset, (A[:, 2 * i] + A[:, 2 * i +1]).reshape(len(A),1)])\n",
    "\n",
    "a = np.where(A[:,40])\n",
    "y = np.zeros(len(A))\n",
    "for i in a:\n",
    "    y[i] = 1"
   ]
  },
  {
   "cell_type": "code",
   "execution_count": 148,
   "metadata": {},
   "outputs": [],
   "source": [
    "X = np.array(dataset)\n",
    "Y = np.array(y)"
   ]
  },
  {
   "cell_type": "code",
   "execution_count": 2,
   "metadata": {},
   "outputs": [],
   "source": [
    "import pydotplus\n",
    "from sklearn.tree import DecisionTreeClassifier\n",
    "from sklearn.model_selection import train_test_split\n",
    "from sklearn.ensemble import AdaBoostClassifier\n",
    "from sklearn.ensemble import RandomForestClassifier\n",
    "from sklearn.model_selection import cross_val_score\n",
    "from sklearn import metrics"
   ]
  },
  {
   "cell_type": "markdown",
   "metadata": {},
   "source": [
    "why not naive bayes: the behavior of buying can be considered as a time series, which is not indepent from each other(however, strongly correlated)   \n",
    "why not SVM: the data is too large and there are too many features. So it will take a long time to train the model."
   ]
  },
  {
   "cell_type": "code",
   "execution_count": 20,
   "metadata": {},
   "outputs": [
    {
     "data": {
      "text/plain": [
       "['y.pkl']"
      ]
     },
     "execution_count": 20,
     "metadata": {},
     "output_type": "execute_result"
    }
   ],
   "source": [
    "# saving the variables\n",
    "from sklearn.externals import joblib\n",
    "# save\n",
    "joblib.dump(X, 'x.pkl') \n",
    "joblib.dump(Y, 'y.pkl') "
   ]
  },
  {
   "cell_type": "code",
   "execution_count": 29,
   "metadata": {},
   "outputs": [],
   "source": [
    "from sklearn.externals import joblib\n",
    "# imoprt\n",
    "X = joblib.load('x.pkl')\n",
    "Y = joblib.load('y.pkl')"
   ]
  },
  {
   "cell_type": "code",
   "execution_count": 152,
   "metadata": {},
   "outputs": [],
   "source": [
    "# seperate the training and testing set\n",
    "X_train, X_test, Y_train, Y_test = train_test_split(X, Y, test_size=0.4, random_state=0)"
   ]
  },
  {
   "cell_type": "code",
   "execution_count": 59,
   "metadata": {},
   "outputs": [],
   "source": [
    "# training\n",
    "# random forest\n",
    "rf_clf = RandomForestClassifier(n_estimators=100)\n",
    "scores_rf = cross_val_score(rf_clf, X_train, Y_train, cv=3,scoring='f1')\n",
    "# adaboost\n",
    "AdaBoost_clf = AdaBoostClassifier(n_estimators=10)    \n",
    "scores_AdaBoost = cross_val_score(AdaBoost_clf, X_train, Y_train, cv=3,scoring='f1')"
   ]
  },
  {
   "cell_type": "code",
   "execution_count": 60,
   "metadata": {},
   "outputs": [
    {
     "name": "stdout",
     "output_type": "stream",
     "text": [
      "F1-score of RadomForest: 0.189 (+/- 0.006)\n",
      "F1-score of AdaBoost: 0.248 (+/- 0.009)\n"
     ]
    }
   ],
   "source": [
    "print(\"F1-score of RadomForest: %0.3f (+/- %0.3f)\" % (scores_rf.mean(), scores_rf.std() * 2))\n",
    "print(\"F1-score of AdaBoost: %0.3f (+/- %0.3f)\" % (scores_AdaBoost.mean(), scores_AdaBoost.std() * 2))"
   ]
  },
  {
   "cell_type": "code",
   "execution_count": 61,
   "metadata": {},
   "outputs": [],
   "source": [
    "# testing\n",
    "# random forest\n",
    "rf_clf = RandomForestClassifier(n_estimators=100)\n",
    "rf_clf.fit(X_train, Y_train)\n",
    "Y_prediction_rf = rf_clf.predict(X_test)"
   ]
  },
  {
   "cell_type": "code",
   "execution_count": 62,
   "metadata": {},
   "outputs": [
    {
     "name": "stdout",
     "output_type": "stream",
     "text": [
      "confusion_matrix of RadomForest is:\n",
      " [[171627   1832]\n",
      " [ 11706   1590]]\n"
     ]
    }
   ],
   "source": [
    "print(\"confusion_matrix of RadomForest is:\\n\",metrics.confusion_matrix(Y_test, Y_prediction_rf))"
   ]
  },
  {
   "cell_type": "code",
   "execution_count": 63,
   "metadata": {},
   "outputs": [
    {
     "name": "stdout",
     "output_type": "stream",
     "text": [
      "confusion_matrix of AdaBoost is:\n",
      " [[171613   1846]\n",
      " [ 11182   2114]]\n"
     ]
    }
   ],
   "source": [
    "# adaboost\n",
    "AdaBoost_clf = AdaBoostClassifier(n_estimators=10)\n",
    "AdaBoost_clf.fit(X_train, Y_train)\n",
    "Y_prediction_AdaBoost = AdaBoost_clf.predict(X_test)\n",
    "print(\"confusion_matrix of AdaBoost is:\\n\",metrics.confusion_matrix(Y_test, Y_prediction_AdaBoost))"
   ]
  },
  {
   "cell_type": "markdown",
   "metadata": {},
   "source": [
    "The both cannot classify the negative samples.  \n",
    "The samples are unbalanced."
   ]
  },
  {
   "cell_type": "markdown",
   "metadata": {},
   "source": [
    "#####  SMOTE"
   ]
  },
  {
   "cell_type": "code",
   "execution_count": 14,
   "metadata": {},
   "outputs": [
    {
     "name": "stdout",
     "output_type": "stream",
     "text": [
      "training_set: Counter({0.0: 260246, 1.0: 19885})\n",
      "SMOTE Counter({0.0: 260246, 1.0: 260246})\n"
     ]
    }
   ],
   "source": [
    "from imblearn.over_sampling import SMOTE\n",
    "from collections import Counter\n",
    "smo = SMOTE(random_state = 0)\n",
    "X_smo, Y_smo = smo.fit_sample(X_train, Y_train)\n",
    "print(\"training_set:\", Counter(Y_train))\n",
    "print(\"SMOTE\", Counter(Y_smo))"
   ]
  },
  {
   "cell_type": "code",
   "execution_count": 19,
   "metadata": {},
   "outputs": [
    {
     "name": "stdout",
     "output_type": "stream",
     "text": [
      "F1-score of RadomForest: 0.845 (+/- 0.011)\n",
      "F1-score of AdaBoost: 0.687 (+/- 0.001)\n"
     ]
    }
   ],
   "source": [
    "# training\n",
    "# random forest\n",
    "rf_clf = RandomForestClassifier(n_estimators=100)\n",
    "scores_rf = cross_val_score(rf_clf, X_smo, Y_smo, cv=3,scoring='f1')\n",
    "# adaboost\n",
    "AdaBoost_clf = AdaBoostClassifier(n_estimators=10)    \n",
    "scores_AdaBoost = cross_val_score(AdaBoost_clf, X_smo, Y_smo, cv=3,scoring='f1')\n",
    "print(\"F1-score of RadomForest: %0.3f (+/- %0.3f)\" % (scores_rf.mean(), scores_rf.std() * 2))\n",
    "print(\"F1-score of AdaBoost: %0.3f (+/- %0.3f)\" % (scores_AdaBoost.mean(), scores_AdaBoost.std() * 2))"
   ]
  },
  {
   "cell_type": "code",
   "execution_count": 44,
   "metadata": {},
   "outputs": [
    {
     "name": "stdout",
     "output_type": "stream",
     "text": [
      "confusion_matrix of RadomForest is:\n",
      " [[140920  32539]\n",
      " [  7113   6183]]\n"
     ]
    }
   ],
   "source": [
    "# testing\n",
    "# random forest\n",
    "rf_clf = RandomForestClassifier(n_estimators=100)\n",
    "rf_clf.fit(X_smo, Y_smo)\n",
    "Y_prediction_rf = rf_clf.predict(X_test)\n",
    "print(\"confusion_matrix of RadomForest is:\\n\",metrics.confusion_matrix(Y_test, Y_prediction_rf))"
   ]
  },
  {
   "cell_type": "code",
   "execution_count": 45,
   "metadata": {},
   "outputs": [
    {
     "name": "stdout",
     "output_type": "stream",
     "text": [
      "confusion_matrix of AdaBoost is:\n",
      " [[140506  32953]\n",
      " [  4751   8545]]\n"
     ]
    }
   ],
   "source": [
    "# adaboost\n",
    "AdaBoost_clf = AdaBoostClassifier(n_estimators=10)\n",
    "AdaBoost_clf.fit(X_smo, Y_smo)\n",
    "Y_prediction_AdaBoost = AdaBoost_clf.predict(X_test)\n",
    "print(\"confusion_matrix of AdaBoost is:\\n\",metrics.confusion_matrix(Y_test, Y_prediction_AdaBoost))"
   ]
  },
  {
   "cell_type": "markdown",
   "metadata": {},
   "source": [
    "not to record the number of the orders but whether he bought the goods"
   ]
  },
  {
   "cell_type": "code",
   "execution_count": 29,
   "metadata": {},
   "outputs": [],
   "source": [
    "X[X > 0] = 1\n",
    "\n",
    "X_train, X_test, Y_train, Y_test = train_test_split(X, Y, test_size=0.4, random_state=0)"
   ]
  },
  {
   "cell_type": "code",
   "execution_count": 37,
   "metadata": {},
   "outputs": [
    {
     "name": "stdout",
     "output_type": "stream",
     "text": [
      "F1-score of RadomForest: 0.211 (+/- 0.003)\n",
      "F1-score of AdaBoost: 0.248 (+/- 0.009)\n"
     ]
    }
   ],
   "source": [
    "# training\n",
    "# random forest\n",
    "rf_clf = RandomForestClassifier(n_estimators=100)\n",
    "scores_rf = cross_val_score(rf_clf, X_train, Y_train, cv=3,scoring='f1')\n",
    "# adaboost\n",
    "AdaBoost_clf = AdaBoostClassifier(n_estimators=10)    \n",
    "scores_AdaBoost = cross_val_score(AdaBoost_clf, X_train, Y_train, cv=3,scoring='f1')\n",
    "print(\"F1-score of RadomForest: %0.3f (+/- %0.3f)\" % (scores_rf.mean(), scores_rf.std() * 2))\n",
    "print(\"F1-score of AdaBoost: %0.3f (+/- %0.3f)\" % (scores_AdaBoost.mean(), scores_AdaBoost.std() * 2))"
   ]
  },
  {
   "cell_type": "code",
   "execution_count": 38,
   "metadata": {},
   "outputs": [
    {
     "name": "stdout",
     "output_type": "stream",
     "text": [
      "confusion_matrix of RadomForest is:\n",
      " [[170799   2660]\n",
      " [ 11341   1955]]\n"
     ]
    }
   ],
   "source": [
    "# testing\n",
    "# random forest\n",
    "rf_clf = RandomForestClassifier(n_estimators=100)\n",
    "rf_clf.fit(X_train, Y_train)\n",
    "Y_prediction_rf = rf_clf.predict(X_test)\n",
    "print(\"confusion_matrix of RadomForest is:\\n\",metrics.confusion_matrix(Y_test, Y_prediction_rf))"
   ]
  },
  {
   "cell_type": "code",
   "execution_count": 39,
   "metadata": {},
   "outputs": [
    {
     "name": "stdout",
     "output_type": "stream",
     "text": [
      "confusion_matrix of AdaBoost is:\n",
      " [[171613   1846]\n",
      " [ 11182   2114]]\n"
     ]
    }
   ],
   "source": [
    "# adaboost\n",
    "AdaBoost_clf = AdaBoostClassifier(n_estimators=10)\n",
    "AdaBoost_clf.fit(X_train, Y_train)\n",
    "Y_prediction_AdaBoost = AdaBoost_clf.predict(X_test)\n",
    "print(\"confusion_matrix of AdaBoost is:\\n\",metrics.confusion_matrix(Y_test, Y_prediction_AdaBoost))"
   ]
  },
  {
   "cell_type": "markdown",
   "metadata": {},
   "source": [
    "##### combined with SMOTE"
   ]
  },
  {
   "cell_type": "code",
   "execution_count": 30,
   "metadata": {},
   "outputs": [
    {
     "name": "stdout",
     "output_type": "stream",
     "text": [
      "training_set: Counter({0.0: 260246, 1.0: 19885})\n",
      "SMOTE Counter({0.0: 260246, 1.0: 260246})\n"
     ]
    }
   ],
   "source": [
    "smo = SMOTE(random_state = 0)\n",
    "X_smo, Y_smo = smo.fit_sample(X_train, Y_train)\n",
    "print(\"training_set:\", Counter(Y_train))\n",
    "print(\"SMOTE\", Counter(Y_smo))"
   ]
  },
  {
   "cell_type": "code",
   "execution_count": 40,
   "metadata": {},
   "outputs": [
    {
     "name": "stdout",
     "output_type": "stream",
     "text": [
      "F1-score of RadomForest: 0.769 (+/- 0.002)\n",
      "F1-score of AdaBoost: 0.678 (+/- 0.013)\n"
     ]
    }
   ],
   "source": [
    "# training\n",
    "# random forest\n",
    "rf_clf = RandomForestClassifier(n_estimators=100)\n",
    "scores_rf = cross_val_score(rf_clf, X_smo, Y_smo, cv=3, scoring='f1')\n",
    "# adaboost\n",
    "AdaBoost_clf = AdaBoostClassifier(n_estimators=10)    \n",
    "scores_AdaBoost = cross_val_score(AdaBoost_clf, X_smo, Y_smo, cv=3, scoring='f1')\n",
    "print(\"F1-score of RadomForest: %0.3f (+/- %0.3f)\" % (scores_rf.mean(), scores_rf.std() * 2))\n",
    "print(\"F1-score of AdaBoost: %0.3f (+/- %0.3f)\" % (scores_AdaBoost.mean(), scores_AdaBoost.std() * 2))"
   ]
  },
  {
   "cell_type": "code",
   "execution_count": 41,
   "metadata": {},
   "outputs": [
    {
     "name": "stdout",
     "output_type": "stream",
     "text": [
      "confusion_matrix of RadomForest is:\n",
      " [[140996  32463]\n",
      " [  7117   6179]]\n"
     ]
    }
   ],
   "source": [
    "# testing\n",
    "# random forest\n",
    "rf_clf = RandomForestClassifier(n_estimators=100)\n",
    "rf_clf.fit(X_smo, Y_smo)\n",
    "Y_prediction_rf = rf_clf.predict(X_test)\n",
    "print(\"confusion_matrix of RadomForest is:\\n\",metrics.confusion_matrix(Y_test, Y_prediction_rf))"
   ]
  },
  {
   "cell_type": "code",
   "execution_count": 42,
   "metadata": {},
   "outputs": [
    {
     "name": "stdout",
     "output_type": "stream",
     "text": [
      "confusion_matrix of AdaBoost is:\n",
      " [[140506  32953]\n",
      " [  4751   8545]]\n"
     ]
    }
   ],
   "source": [
    "# adaboost\n",
    "AdaBoost_clf = AdaBoostClassifier(n_estimators=10)\n",
    "AdaBoost_clf.fit(X_smo, Y_smo)\n",
    "Y_prediction_AdaBoost = AdaBoost_clf.predict(X_test)\n",
    "print(\"confusion_matrix of AdaBoost is:\\n\",metrics.confusion_matrix(Y_test, Y_prediction_AdaBoost))"
   ]
  },
  {
   "cell_type": "markdown",
   "metadata": {},
   "source": [
    "all of the above cannot predict the y correctly when y_ture=0"
   ]
  },
  {
   "cell_type": "markdown",
   "metadata": {},
   "source": [
    "#### split the weekday part and the weekend part"
   ]
  },
  {
   "cell_type": "code",
   "execution_count": 3,
   "metadata": {},
   "outputs": [
    {
     "name": "stderr",
     "output_type": "stream",
     "text": [
      "F:\\PYTHON\\lib\\site-packages\\sklearn\\externals\\joblib\\__init__.py:15: FutureWarning: sklearn.externals.joblib is deprecated in 0.21 and will be removed in 0.23. Please import this functionality directly from joblib, which can be installed with: pip install joblib. If this warning is raised when loading pickled models, you may need to re-serialize those models with scikit-learn 0.21+.\n",
      "  warnings.warn(msg, category=FutureWarning)\n"
     ]
    }
   ],
   "source": [
    "# imoprt the whole dataset again\n",
    "from sklearn.externals import joblib\n",
    "table = joblib.load('table.pkl')\n",
    "dataset = np.array(table)"
   ]
  },
  {
   "cell_type": "code",
   "execution_count": 4,
   "metadata": {},
   "outputs": [],
   "source": [
    "date = pd.DataFrame(table.columns)\n",
    "date = np.array(pd.to_datetime(date['dt']).dt.date)"
   ]
  },
  {
   "cell_type": "code",
   "execution_count": 5,
   "metadata": {},
   "outputs": [],
   "source": [
    "weekday = []\n",
    "for i in date:\n",
    "    weekday.append(i.isoweekday())\n",
    "\n",
    "weekday = np.array(weekday)\n",
    "\n",
    "table.columns = weekday"
   ]
  },
  {
   "cell_type": "code",
   "execution_count": 6,
   "metadata": {},
   "outputs": [
    {
     "data": {
      "text/html": [
       "<div>\n",
       "<style scoped>\n",
       "    .dataframe tbody tr th:only-of-type {\n",
       "        vertical-align: middle;\n",
       "    }\n",
       "\n",
       "    .dataframe tbody tr th {\n",
       "        vertical-align: top;\n",
       "    }\n",
       "\n",
       "    .dataframe thead th {\n",
       "        text-align: right;\n",
       "    }\n",
       "</style>\n",
       "<table border=\"1\" class=\"dataframe\">\n",
       "  <thead>\n",
       "    <tr style=\"text-align: right;\">\n",
       "      <th></th>\n",
       "      <th>7</th>\n",
       "      <th>1</th>\n",
       "      <th>2</th>\n",
       "      <th>3</th>\n",
       "      <th>4</th>\n",
       "      <th>5</th>\n",
       "      <th>6</th>\n",
       "      <th>7</th>\n",
       "      <th>1</th>\n",
       "      <th>2</th>\n",
       "      <th>...</th>\n",
       "      <th>3</th>\n",
       "      <th>4</th>\n",
       "      <th>5</th>\n",
       "      <th>6</th>\n",
       "      <th>7</th>\n",
       "      <th>1</th>\n",
       "      <th>2</th>\n",
       "      <th>3</th>\n",
       "      <th>4</th>\n",
       "      <th>5</th>\n",
       "    </tr>\n",
       "    <tr>\n",
       "      <th>phone_no</th>\n",
       "      <th></th>\n",
       "      <th></th>\n",
       "      <th></th>\n",
       "      <th></th>\n",
       "      <th></th>\n",
       "      <th></th>\n",
       "      <th></th>\n",
       "      <th></th>\n",
       "      <th></th>\n",
       "      <th></th>\n",
       "      <th></th>\n",
       "      <th></th>\n",
       "      <th></th>\n",
       "      <th></th>\n",
       "      <th></th>\n",
       "      <th></th>\n",
       "      <th></th>\n",
       "      <th></th>\n",
       "      <th></th>\n",
       "      <th></th>\n",
       "      <th></th>\n",
       "    </tr>\n",
       "  </thead>\n",
       "  <tbody>\n",
       "    <tr>\n",
       "      <th>51379898</th>\n",
       "      <td>0</td>\n",
       "      <td>0</td>\n",
       "      <td>0</td>\n",
       "      <td>0</td>\n",
       "      <td>0</td>\n",
       "      <td>0</td>\n",
       "      <td>0</td>\n",
       "      <td>0</td>\n",
       "      <td>2</td>\n",
       "      <td>0</td>\n",
       "      <td>...</td>\n",
       "      <td>0</td>\n",
       "      <td>0</td>\n",
       "      <td>0</td>\n",
       "      <td>0</td>\n",
       "      <td>0</td>\n",
       "      <td>0</td>\n",
       "      <td>0</td>\n",
       "      <td>0</td>\n",
       "      <td>0</td>\n",
       "      <td>0</td>\n",
       "    </tr>\n",
       "    <tr>\n",
       "      <th>57047978</th>\n",
       "      <td>2</td>\n",
       "      <td>0</td>\n",
       "      <td>0</td>\n",
       "      <td>0</td>\n",
       "      <td>0</td>\n",
       "      <td>0</td>\n",
       "      <td>0</td>\n",
       "      <td>0</td>\n",
       "      <td>0</td>\n",
       "      <td>0</td>\n",
       "      <td>...</td>\n",
       "      <td>0</td>\n",
       "      <td>0</td>\n",
       "      <td>0</td>\n",
       "      <td>0</td>\n",
       "      <td>0</td>\n",
       "      <td>0</td>\n",
       "      <td>0</td>\n",
       "      <td>0</td>\n",
       "      <td>0</td>\n",
       "      <td>0</td>\n",
       "    </tr>\n",
       "    <tr>\n",
       "      <th>61120518</th>\n",
       "      <td>2</td>\n",
       "      <td>0</td>\n",
       "      <td>0</td>\n",
       "      <td>0</td>\n",
       "      <td>0</td>\n",
       "      <td>0</td>\n",
       "      <td>0</td>\n",
       "      <td>0</td>\n",
       "      <td>0</td>\n",
       "      <td>0</td>\n",
       "      <td>...</td>\n",
       "      <td>0</td>\n",
       "      <td>0</td>\n",
       "      <td>0</td>\n",
       "      <td>0</td>\n",
       "      <td>0</td>\n",
       "      <td>0</td>\n",
       "      <td>0</td>\n",
       "      <td>0</td>\n",
       "      <td>0</td>\n",
       "      <td>0</td>\n",
       "    </tr>\n",
       "  </tbody>\n",
       "</table>\n",
       "<p>3 rows × 41 columns</p>\n",
       "</div>"
      ],
      "text/plain": [
       "          7  1  2  3  4  5  6  7  1  2 ...  3  4  5  6  7  1  2  3  4  5\n",
       "phone_no                               ...                              \n",
       "51379898  0  0  0  0  0  0  0  0  2  0 ...  0  0  0  0  0  0  0  0  0  0\n",
       "57047978  2  0  0  0  0  0  0  0  0  0 ...  0  0  0  0  0  0  0  0  0  0\n",
       "61120518  2  0  0  0  0  0  0  0  0  0 ...  0  0  0  0  0  0  0  0  0  0\n",
       "\n",
       "[3 rows x 41 columns]"
      ]
     },
     "execution_count": 6,
     "metadata": {},
     "output_type": "execute_result"
    }
   ],
   "source": [
    "table.head(3)"
   ]
  },
  {
   "cell_type": "code",
   "execution_count": 7,
   "metadata": {},
   "outputs": [],
   "source": [
    "# split the dataset\n",
    "weekend = table.iloc[:, 0]\n",
    "weekday = table.iloc[:,1:6]\n",
    "for i in range(5):\n",
    "    weekend = pd.concat([weekend, table.iloc[:, i * 7 + 6 : i * 7 + 8]], axis=1, join='outer')\n",
    "    weekday = pd.concat([weekday, table.iloc[:, i * 7 + 8 : i * 7 + 13]], axis=1, join='outer')"
   ]
  },
  {
   "cell_type": "markdown",
   "metadata": {},
   "source": [
    "take the last day of each part as the target"
   ]
  },
  {
   "cell_type": "markdown",
   "metadata": {},
   "source": [
    "##### Weekday"
   ]
  },
  {
   "cell_type": "code",
   "execution_count": 8,
   "metadata": {},
   "outputs": [],
   "source": [
    "dataset = np.array(weekday)\n",
    "X = dataset[:, 0:-1]\n",
    "\n",
    "a = np.where(dataset[:, -1])\n",
    "Y = np.zeros(len(dataset))\n",
    "for i in a:\n",
    "    Y[i] = 1"
   ]
  },
  {
   "cell_type": "code",
   "execution_count": 9,
   "metadata": {},
   "outputs": [],
   "source": [
    "# seperate the training and testing set\n",
    "X_train, X_test, Y_train, Y_test = train_test_split(X, Y, test_size=0.4, random_state=0)"
   ]
  },
  {
   "cell_type": "code",
   "execution_count": 10,
   "metadata": {},
   "outputs": [
    {
     "name": "stdout",
     "output_type": "stream",
     "text": [
      "training_set: Counter({0.0: 260246, 1.0: 19885})\n",
      "SMOTE Counter({0.0: 260246, 1.0: 260246})\n"
     ]
    }
   ],
   "source": [
    "from imblearn.over_sampling import SMOTE\n",
    "from collections import Counter\n",
    "smo = SMOTE(random_state = 0)\n",
    "X_smo, Y_smo = smo.fit_sample(X_train, Y_train)\n",
    "print(\"training_set:\", Counter(Y_train))\n",
    "print(\"SMOTE\", Counter(Y_smo))"
   ]
  },
  {
   "cell_type": "code",
   "execution_count": 174,
   "metadata": {},
   "outputs": [
    {
     "name": "stdout",
     "output_type": "stream",
     "text": [
      "F1-score of RadomForest: 0.839 (+/- 0.011)\n",
      "F1-score of AdaBoost: 0.646 (+/- 0.013)\n"
     ]
    }
   ],
   "source": [
    "# training\n",
    "# random forest\n",
    "rf_clf = RandomForestClassifier(n_estimators=100)\n",
    "scores_rf = cross_val_score(rf_clf, X_smo, Y_smo, cv=3,scoring='f1')\n",
    "# adaboost\n",
    "AdaBoost_clf = AdaBoostClassifier(n_estimators=10)    \n",
    "scores_AdaBoost = cross_val_score(AdaBoost_clf, X_smo, Y_smo, cv=3,scoring='f1')\n",
    "print(\"F1-score of RadomForest: %0.3f (+/- %0.3f)\" % (scores_rf.mean(), scores_rf.std() * 2))\n",
    "print(\"F1-score of AdaBoost: %0.3f (+/- %0.3f)\" % (scores_AdaBoost.mean(), scores_AdaBoost.std() * 2))"
   ]
  },
  {
   "cell_type": "code",
   "execution_count": 11,
   "metadata": {},
   "outputs": [
    {
     "name": "stdout",
     "output_type": "stream",
     "text": [
      "confusion_matrix of AdaBoost is:\n",
      " [[147602  25857]\n",
      " [  5837   7459]]\n"
     ]
    }
   ],
   "source": [
    "# adaboost testing\n",
    "AdaBoost_clf = AdaBoostClassifier(n_estimators=10)\n",
    "AdaBoost_clf.fit(X_smo, Y_smo)\n",
    "Y_prediction_AdaBoost = AdaBoost_clf.predict(X_test)\n",
    "print(\"confusion_matrix of AdaBoost is:\\n\",metrics.confusion_matrix(Y_test, Y_prediction_AdaBoost))"
   ]
  },
  {
   "cell_type": "markdown",
   "metadata": {},
   "source": [
    "does not make it better"
   ]
  },
  {
   "cell_type": "markdown",
   "metadata": {},
   "source": [
    "seperate weekday and weekend + SMOTE + not to record the order number"
   ]
  },
  {
   "cell_type": "code",
   "execution_count": 12,
   "metadata": {},
   "outputs": [],
   "source": [
    "X[X > 0] = 1\n",
    "\n",
    "X_train, X_test, Y_train, Y_test = train_test_split(X, Y, test_size=0.4, random_state=0)"
   ]
  },
  {
   "cell_type": "code",
   "execution_count": 177,
   "metadata": {},
   "outputs": [
    {
     "name": "stdout",
     "output_type": "stream",
     "text": [
      "F1-score of RadomForest: 0.775 (+/- 0.002)\n",
      "F1-score of AdaBoost: 0.647 (+/- 0.016)\n"
     ]
    }
   ],
   "source": [
    "smo = SMOTE(random_state = 0)\n",
    "X_smo, Y_smo = smo.fit_sample(X_train, Y_train)\n",
    "rf_clf = RandomForestClassifier(n_estimators=100)\n",
    "scores_rf = cross_val_score(rf_clf, X_smo, Y_smo, cv=3, scoring='f1')\n",
    "# adaboost\n",
    "AdaBoost_clf = AdaBoostClassifier(n_estimators=10)    \n",
    "scores_AdaBoost = cross_val_score(AdaBoost_clf, X_smo, Y_smo, cv=3, scoring='f1')\n",
    "print(\"F1-score of RadomForest: %0.3f (+/- %0.3f)\" % (scores_rf.mean(), scores_rf.std() * 2))\n",
    "print(\"F1-score of AdaBoost: %0.3f (+/- %0.3f)\" % (scores_AdaBoost.mean(), scores_AdaBoost.std() * 2))"
   ]
  },
  {
   "cell_type": "code",
   "execution_count": 13,
   "metadata": {},
   "outputs": [
    {
     "name": "stdout",
     "output_type": "stream",
     "text": [
      "confusion_matrix of AdaBoost is:\n",
      " [[139694  33765]\n",
      " [  4899   8397]]\n"
     ]
    }
   ],
   "source": [
    "# adaboost testing\n",
    "AdaBoost_clf = AdaBoostClassifier(n_estimators=10)\n",
    "AdaBoost_clf.fit(X_smo, Y_smo)\n",
    "Y_prediction_AdaBoost = AdaBoost_clf.predict(X_test)\n",
    "print(\"confusion_matrix of AdaBoost is:\\n\",metrics.confusion_matrix(Y_test, Y_prediction_AdaBoost))"
   ]
  },
  {
   "cell_type": "markdown",
   "metadata": {},
   "source": [
    "seperating the weekday and weekend does not work well"
   ]
  },
  {
   "cell_type": "markdown",
   "metadata": {},
   "source": [
    "seeing from the figure of date and order number, there is a decrease during one week(the Spring Festival),  \n",
    "so try droping the data of that week(02-04 to 02-10)"
   ]
  },
  {
   "cell_type": "code",
   "execution_count": 14,
   "metadata": {},
   "outputs": [],
   "source": [
    "# load the data\n",
    "from sklearn.externals import joblib\n",
    "table = joblib.load('table.pkl')"
   ]
  },
  {
   "cell_type": "code",
   "execution_count": 15,
   "metadata": {},
   "outputs": [],
   "source": [
    "table = table.drop(table.columns[15:22], axis=1)"
   ]
  },
  {
   "cell_type": "code",
   "execution_count": 16,
   "metadata": {},
   "outputs": [
    {
     "data": {
      "image/png": "[encoded data removed]",
      "text/plain": [
       "<Figure size 720x360 with 1 Axes>"
      ]
     },
     "metadata": {},
     "output_type": "display_data"
    }
   ],
   "source": [
    "common_date = np.sum(table)\n",
    "common_datetime = [pd.to_datetime(i).date() for i in np.array(table.columns)]\n",
    "plt.figure(figsize = (10 , 5))\n",
    "plt.bar(common_datetime, np.array(common_date))\n",
    "plt.show()"
   ]
  },
  {
   "cell_type": "code",
   "execution_count": 17,
   "metadata": {},
   "outputs": [
    {
     "data": {
      "text/html": [
       "<div>\n",
       "<style scoped>\n",
       "    .dataframe tbody tr th:only-of-type {\n",
       "        vertical-align: middle;\n",
       "    }\n",
       "\n",
       "    .dataframe tbody tr th {\n",
       "        vertical-align: top;\n",
       "    }\n",
       "\n",
       "    .dataframe thead th {\n",
       "        text-align: right;\n",
       "    }\n",
       "</style>\n",
       "<table border=\"1\" class=\"dataframe\">\n",
       "  <thead>\n",
       "    <tr style=\"text-align: right;\">\n",
       "      <th>dt</th>\n",
       "      <th>2019-01-20</th>\n",
       "      <th>2019-01-21</th>\n",
       "      <th>2019-01-22</th>\n",
       "      <th>2019-01-23</th>\n",
       "      <th>2019-01-24</th>\n",
       "      <th>2019-01-25</th>\n",
       "      <th>2019-01-26</th>\n",
       "      <th>2019-01-27</th>\n",
       "      <th>2019-01-28</th>\n",
       "      <th>2019-01-29</th>\n",
       "      <th>...</th>\n",
       "      <th>2019-02-20</th>\n",
       "      <th>2019-02-21</th>\n",
       "      <th>2019-02-22</th>\n",
       "      <th>2019-02-23</th>\n",
       "      <th>2019-02-24</th>\n",
       "      <th>2019-02-25</th>\n",
       "      <th>2019-02-26</th>\n",
       "      <th>2019-02-27</th>\n",
       "      <th>2019-02-28</th>\n",
       "      <th>2019-03-01</th>\n",
       "    </tr>\n",
       "    <tr>\n",
       "      <th>phone_no</th>\n",
       "      <th></th>\n",
       "      <th></th>\n",
       "      <th></th>\n",
       "      <th></th>\n",
       "      <th></th>\n",
       "      <th></th>\n",
       "      <th></th>\n",
       "      <th></th>\n",
       "      <th></th>\n",
       "      <th></th>\n",
       "      <th></th>\n",
       "      <th></th>\n",
       "      <th></th>\n",
       "      <th></th>\n",
       "      <th></th>\n",
       "      <th></th>\n",
       "      <th></th>\n",
       "      <th></th>\n",
       "      <th></th>\n",
       "      <th></th>\n",
       "      <th></th>\n",
       "    </tr>\n",
       "  </thead>\n",
       "  <tbody>\n",
       "    <tr>\n",
       "      <th>51379898</th>\n",
       "      <td>0</td>\n",
       "      <td>0</td>\n",
       "      <td>0</td>\n",
       "      <td>0</td>\n",
       "      <td>0</td>\n",
       "      <td>0</td>\n",
       "      <td>0</td>\n",
       "      <td>0</td>\n",
       "      <td>2</td>\n",
       "      <td>0</td>\n",
       "      <td>...</td>\n",
       "      <td>0</td>\n",
       "      <td>0</td>\n",
       "      <td>0</td>\n",
       "      <td>0</td>\n",
       "      <td>0</td>\n",
       "      <td>0</td>\n",
       "      <td>0</td>\n",
       "      <td>0</td>\n",
       "      <td>0</td>\n",
       "      <td>0</td>\n",
       "    </tr>\n",
       "    <tr>\n",
       "      <th>57047978</th>\n",
       "      <td>2</td>\n",
       "      <td>0</td>\n",
       "      <td>0</td>\n",
       "      <td>0</td>\n",
       "      <td>0</td>\n",
       "      <td>0</td>\n",
       "      <td>0</td>\n",
       "      <td>0</td>\n",
       "      <td>0</td>\n",
       "      <td>0</td>\n",
       "      <td>...</td>\n",
       "      <td>0</td>\n",
       "      <td>0</td>\n",
       "      <td>0</td>\n",
       "      <td>0</td>\n",
       "      <td>0</td>\n",
       "      <td>0</td>\n",
       "      <td>0</td>\n",
       "      <td>0</td>\n",
       "      <td>0</td>\n",
       "      <td>0</td>\n",
       "    </tr>\n",
       "  </tbody>\n",
       "</table>\n",
       "<p>2 rows × 34 columns</p>\n",
       "</div>"
      ],
      "text/plain": [
       "dt        2019-01-20  2019-01-21  2019-01-22  2019-01-23  2019-01-24  \\\n",
       "phone_no                                                               \n",
       "51379898           0           0           0           0           0   \n",
       "57047978           2           0           0           0           0   \n",
       "\n",
       "dt        2019-01-25  2019-01-26  2019-01-27  2019-01-28  2019-01-29  \\\n",
       "phone_no                                                               \n",
       "51379898           0           0           0           2           0   \n",
       "57047978           0           0           0           0           0   \n",
       "\n",
       "dt           ...      2019-02-20  2019-02-21  2019-02-22  2019-02-23  \\\n",
       "phone_no     ...                                                       \n",
       "51379898     ...               0           0           0           0   \n",
       "57047978     ...               0           0           0           0   \n",
       "\n",
       "dt        2019-02-24  2019-02-25  2019-02-26  2019-02-27  2019-02-28  \\\n",
       "phone_no                                                               \n",
       "51379898           0           0           0           0           0   \n",
       "57047978           0           0           0           0           0   \n",
       "\n",
       "dt        2019-03-01  \n",
       "phone_no              \n",
       "51379898           0  \n",
       "57047978           0  \n",
       "\n",
       "[2 rows x 34 columns]"
      ]
     },
     "execution_count": 17,
     "metadata": {},
     "output_type": "execute_result"
    }
   ],
   "source": [
    "table.head(2)"
   ]
  },
  {
   "cell_type": "code",
   "execution_count": 18,
   "metadata": {},
   "outputs": [],
   "source": [
    "X = np.array(table)[:, 0:-1]\n",
    "\n",
    "a = np.where(np.array(table)[:, -1])\n",
    "Y = np.zeros(len(table))\n",
    "for i in a:\n",
    "    Y[i] = 1\n",
    "\n",
    "X_train, X_test, Y_train, Y_test = train_test_split(X, Y, test_size=0.4, random_state=0)"
   ]
  },
  {
   "cell_type": "code",
   "execution_count": 19,
   "metadata": {},
   "outputs": [
    {
     "name": "stdout",
     "output_type": "stream",
     "text": [
      "training_set: Counter({0.0: 260246, 1.0: 19885})\n",
      "SMOTE Counter({0.0: 260246, 1.0: 260246})\n"
     ]
    }
   ],
   "source": [
    "from imblearn.over_sampling import SMOTE\n",
    "from collections import Counter\n",
    "smo = SMOTE(random_state = 0)\n",
    "X_smo, Y_smo = smo.fit_sample(X_train, Y_train)\n",
    "print(\"training_set:\", Counter(Y_train))\n",
    "print(\"SMOTE\", Counter(Y_smo))"
   ]
  },
  {
   "cell_type": "code",
   "execution_count": 19,
   "metadata": {},
   "outputs": [
    {
     "name": "stdout",
     "output_type": "stream",
     "text": [
      "F1-score of RadomForest: 0.864 (+/- 0.015)\n",
      "F1-score of AdaBoost: 0.639 (+/- 0.004)\n"
     ]
    }
   ],
   "source": [
    "# training\n",
    "# random forest\n",
    "rf_clf = RandomForestClassifier(n_estimators=100)\n",
    "scores_rf = cross_val_score(rf_clf, X_smo, Y_smo, cv=3,scoring='f1')\n",
    "# adaboost\n",
    "AdaBoost_clf = AdaBoostClassifier(n_estimators=10)    \n",
    "scores_AdaBoost = cross_val_score(AdaBoost_clf, X_smo, Y_smo, cv=3,scoring='f1')\n",
    "print(\"F1-score of RadomForest: %0.3f (+/- %0.3f)\" % (scores_rf.mean(), scores_rf.std() * 2))\n",
    "print(\"F1-score of AdaBoost: %0.3f (+/- %0.3f)\" % (scores_AdaBoost.mean(), scores_AdaBoost.std() * 2))"
   ]
  },
  {
   "cell_type": "code",
   "execution_count": 20,
   "metadata": {},
   "outputs": [
    {
     "name": "stdout",
     "output_type": "stream",
     "text": [
      "confusion_matrix of RadomForest is:\n",
      " [[161645  11814]\n",
      " [ 10314   2982]]\n"
     ]
    }
   ],
   "source": [
    "# testing\n",
    "# random forest\n",
    "rf_clf = RandomForestClassifier(n_estimators=100)\n",
    "rf_clf.fit(X_smo, Y_smo)\n",
    "Y_prediction_rf = rf_clf.predict(X_test)\n",
    "print(\"confusion_matrix of RadomForest is:\\n\",metrics.confusion_matrix(Y_test, Y_prediction_rf))"
   ]
  },
  {
   "cell_type": "code",
   "execution_count": 21,
   "metadata": {},
   "outputs": [
    {
     "name": "stdout",
     "output_type": "stream",
     "text": [
      "confusion_matrix of AdaBoost is:\n",
      " [[147122  26337]\n",
      " [  5777   7519]]\n"
     ]
    }
   ],
   "source": [
    "# adaboost\n",
    "AdaBoost_clf = AdaBoostClassifier(n_estimators=10)\n",
    "AdaBoost_clf.fit(X_smo, Y_smo)\n",
    "Y_prediction_AdaBoost = AdaBoost_clf.predict(X_test)\n",
    "print(\"confusion_matrix of AdaBoost is:\\n\",metrics.confusion_matrix(Y_test, Y_prediction_AdaBoost))"
   ]
  },
  {
   "cell_type": "markdown",
   "metadata": {},
   "source": [
    "not to record the order number"
   ]
  },
  {
   "cell_type": "code",
   "execution_count": 22,
   "metadata": {},
   "outputs": [],
   "source": [
    "X[X > 0] = 1\n",
    "\n",
    "X_train, X_test, Y_train, Y_test = train_test_split(X, Y, test_size=0.4, random_state=0)\n",
    "smo = SMOTE(random_state = 0)\n",
    "X_smo, Y_smo = smo.fit_sample(X_train, Y_train)"
   ]
  },
  {
   "cell_type": "code",
   "execution_count": 23,
   "metadata": {},
   "outputs": [
    {
     "name": "stdout",
     "output_type": "stream",
     "text": [
      "confusion_matrix of AdaBoost is:\n",
      " [[138083  35376]\n",
      " [  4694   8602]]\n"
     ]
    }
   ],
   "source": [
    "# adaboost testing\n",
    "AdaBoost_clf = AdaBoostClassifier(n_estimators=10)\n",
    "AdaBoost_clf.fit(X_smo, Y_smo)\n",
    "Y_prediction_AdaBoost = AdaBoost_clf.predict(X_test)\n",
    "print(\"confusion_matrix of AdaBoost is:\\n\",metrics.confusion_matrix(Y_test, Y_prediction_AdaBoost))"
   ]
  },
  {
   "cell_type": "markdown",
   "metadata": {},
   "source": [
    "split the weekend and weekday"
   ]
  },
  {
   "cell_type": "code",
   "execution_count": 24,
   "metadata": {},
   "outputs": [],
   "source": [
    "date = pd.DataFrame(table.columns)\n",
    "date = np.array(pd.to_datetime(date['dt']).dt.date)\n",
    "\n",
    "weekday = []\n",
    "for i in date:\n",
    "    weekday.append(i.isoweekday())\n",
    "\n",
    "weekday = np.array(weekday)\n",
    "\n",
    "table.columns = weekday"
   ]
  },
  {
   "cell_type": "code",
   "execution_count": 25,
   "metadata": {},
   "outputs": [
    {
     "data": {
      "text/plain": [
       "Int64Index([7, 1, 2, 3, 4, 5, 6, 7, 1, 2, 3, 4, 5, 6, 7, 1, 2, 3, 4, 5, 6, 7,\n",
       "            1, 2, 3, 4, 5, 6, 7, 1, 2, 3, 4, 5],\n",
       "           dtype='int64')"
      ]
     },
     "execution_count": 25,
     "metadata": {},
     "output_type": "execute_result"
    }
   ],
   "source": [
    "table.columns"
   ]
  },
  {
   "cell_type": "code",
   "execution_count": 26,
   "metadata": {},
   "outputs": [],
   "source": [
    "# split the dataset\n",
    "weekend = table.iloc[:, 0]\n",
    "weekday = table.iloc[:,1:6]\n",
    "for i in range(4):\n",
    "    weekend = pd.concat([weekend, table.iloc[:, i * 7 + 6 : i * 7 + 8]], axis=1, join='outer')\n",
    "    weekday = pd.concat([weekday, table.iloc[:, i * 7 + 8 : i * 7 + 13]], axis=1, join='outer')"
   ]
  },
  {
   "cell_type": "markdown",
   "metadata": {},
   "source": [
    "##### weekday"
   ]
  },
  {
   "cell_type": "code",
   "execution_count": 34,
   "metadata": {},
   "outputs": [],
   "source": [
    "dataset = np.array(weekday)\n",
    "X = dataset[:, 0:-1]\n",
    "\n",
    "a = np.where(dataset[:, -1])\n",
    "Y = np.zeros(len(dataset))\n",
    "for i in a:\n",
    "    Y[i] = 1"
   ]
  },
  {
   "cell_type": "code",
   "execution_count": 27,
   "metadata": {},
   "outputs": [
    {
     "name": "stdout",
     "output_type": "stream",
     "text": [
      "F1-score of RadomForest: 0.797 (+/- 0.001)\n",
      "F1-score of AdaBoost: 0.632 (+/- 0.017)\n"
     ]
    }
   ],
   "source": [
    "X_train, X_test, Y_train, Y_test = train_test_split(X, Y, test_size=0.4, random_state=0)\n",
    "smo = SMOTE(random_state = 10)\n",
    "X_smo, Y_smo = smo.fit_sample(X_train, Y_train)\n",
    "\n",
    "# training\n",
    "# random forest\n",
    "rf_clf = RandomForestClassifier(n_estimators=100)\n",
    "scores_rf = cross_val_score(rf_clf, X_smo, Y_smo, cv=3,scoring='f1')\n",
    "# adaboost\n",
    "AdaBoost_clf = AdaBoostClassifier(n_estimators=10)    \n",
    "scores_AdaBoost = cross_val_score(AdaBoost_clf, X_smo, Y_smo, cv=3,scoring='f1')\n",
    "print(\"F1-score of RadomForest: %0.3f (+/- %0.3f)\" % (scores_rf.mean(), scores_rf.std() * 2))\n",
    "print(\"F1-score of AdaBoost: %0.3f (+/- %0.3f)\" % (scores_AdaBoost.mean(), scores_AdaBoost.std() * 2))"
   ]
  },
  {
   "cell_type": "code",
   "execution_count": 28,
   "metadata": {},
   "outputs": [
    {
     "name": "stdout",
     "output_type": "stream",
     "text": [
      "confusion_matrix of AdaBoost is:\n",
      " [[138083  35376]\n",
      " [  4694   8602]]\n"
     ]
    }
   ],
   "source": [
    "# adaboost testing\n",
    "AdaBoost_clf = AdaBoostClassifier(n_estimators=10)\n",
    "AdaBoost_clf.fit(X_smo, Y_smo)\n",
    "Y_prediction_AdaBoost = AdaBoost_clf.predict(X_test)\n",
    "print(\"confusion_matrix of AdaBoost is:\\n\",metrics.confusion_matrix(Y_test, Y_prediction_AdaBoost))"
   ]
  },
  {
   "cell_type": "markdown",
   "metadata": {},
   "source": [
    "In sum, there is no significant difference between different split of the dataset but sampling.  \n",
    "Seeing from the f1-score, Randomforest works better."
   ]
  },
  {
   "cell_type": "code",
   "execution_count": 36,
   "metadata": {},
   "outputs": [
    {
     "name": "stdout",
     "output_type": "stream",
     "text": [
      "F1-score of RadomForest: 0.836 (+/- 0.011)\n",
      "F1-score of AdaBoost: 0.651 (+/- 0.012)\n"
     ]
    }
   ],
   "source": [
    "from sklearn.externals import joblib\n",
    "# imoprt\n",
    "X = joblib.load('x.pkl')\n",
    "Y = joblib.load('y.pkl')\n",
    "\n",
    "smo = SMOTE(random_state = 100)\n",
    "X_smo, Y_smo = smo.fit_sample(X_train, Y_train)\n",
    "\n",
    "rf_clf = RandomForestClassifier(n_estimators=100)\n",
    "scores_rf = cross_val_score(rf_clf, X_smo, Y_smo, cv=3,scoring='f1')\n",
    "# adaboost\n",
    "AdaBoost_clf = AdaBoostClassifier(n_estimators=10)    \n",
    "scores_AdaBoost = cross_val_score(AdaBoost_clf, X_smo, Y_smo, cv=3,scoring='f1')\n",
    "print(\"F1-score of RadomForest: %0.3f (+/- %0.3f)\" % (scores_rf.mean(), scores_rf.std() * 2))\n",
    "print(\"F1-score of AdaBoost: %0.3f (+/- %0.3f)\" % (scores_AdaBoost.mean(), scores_AdaBoost.std() * 2))"
   ]
  },
  {
   "cell_type": "code",
   "execution_count": 61,
   "metadata": {},
   "outputs": [
    {
     "name": "stdout",
     "output_type": "stream",
     "text": [
      "confusion_matrix of RadomForest is:\n",
      " [[158382  15077]\n",
      " [  9927   3369]]\n"
     ]
    }
   ],
   "source": [
    "rf_clf = RandomForestClassifier(n_estimators=100)\n",
    "rf_clf.fit(X_smo, Y_smo)\n",
    "Y_prediction_rf = rf_clf.predict(X_test)\n",
    "print(\"confusion_matrix of RadomForest is:\\n\",metrics.confusion_matrix(Y_test, Y_prediction_rf))"
   ]
  },
  {
   "cell_type": "markdown",
   "metadata": {},
   "source": [
    "#### tuning"
   ]
  },
  {
   "cell_type": "code",
   "execution_count": 40,
   "metadata": {},
   "outputs": [
    {
     "name": "stdout",
     "output_type": "stream",
     "text": [
      "F1-score of RadomForest: 0.836 (+/- 0.010)\n"
     ]
    }
   ],
   "source": [
    "# random forest\n",
    "rf_clf = RandomForestClassifier(n_estimators=100, oob_score = False, min_samples_split = 2, min_samples_leaf = 1)\n",
    "scores_rf = cross_val_score(rf_clf, X_smo, Y_smo, cv=3,scoring='f1')\n",
    "print(\"F1-score of RadomForest: %0.3f (+/- %0.3f)\" % (scores_rf.mean(), scores_rf.std() * 2))"
   ]
  },
  {
   "cell_type": "code",
   "execution_count": 44,
   "metadata": {},
   "outputs": [
    {
     "name": "stdout",
     "output_type": "stream",
     "text": [
      "AUC =  0.5823743034668375\n"
     ]
    }
   ],
   "source": [
    "rf_clf = RandomForestClassifier(n_estimators=100, oob_score = True, min_samples_split = 2, min_samples_leaf = 1)\n",
    "rf_clf.fit(X_smo, Y_smo)\n",
    "Y_prediction_rf = rf_clf.predict(X_test)\n",
    "print(\"AUC = \", metrics.roc_auc_score(Y_test, Y_prediction_rf))"
   ]
  },
  {
   "cell_type": "code",
   "execution_count": 52,
   "metadata": {},
   "outputs": [
    {
     "data": {
      "text/plain": [
       "GridSearchCV(cv=3, error_score=nan,\n",
       "             estimator=RandomForestClassifier(bootstrap=True, ccp_alpha=0.0,\n",
       "                                              class_weight=None,\n",
       "                                              criterion='gini', max_depth=8,\n",
       "                                              max_features='sqrt',\n",
       "                                              max_leaf_nodes=None,\n",
       "                                              max_samples=None,\n",
       "                                              min_impurity_decrease=0.0,\n",
       "                                              min_impurity_split=None,\n",
       "                                              min_samples_leaf=20,\n",
       "                                              min_samples_split=100,\n",
       "                                              min_weight_fraction_leaf=0.0,\n",
       "                                              n_estimators=100, n_jobs=None,\n",
       "                                              oob_score=False, random_state=10,\n",
       "                                              verbose=0, warm_start=False),\n",
       "             iid='deprecated', n_jobs=None,\n",
       "             param_grid={'n_estimators': range(50, 200, 10)},\n",
       "             pre_dispatch='2*n_jobs', refit=True, return_train_score=False,\n",
       "             scoring='f1', verbose=0)"
      ]
     },
     "execution_count": 52,
     "metadata": {},
     "output_type": "execute_result"
    }
   ],
   "source": [
    "from sklearn.model_selection import GridSearchCV\n",
    "param_test1 = {'n_estimators':range(50, 200, 10)}\n",
    "gsearch1 = GridSearchCV(estimator = RandomForestClassifier(min_samples_split=100,\n",
    "                                  min_samples_leaf=20,max_depth=8, max_features='sqrt', random_state=10), \n",
    "                       param_grid = param_test1, scoring='f1', cv=3)\n",
    "gsearch1.fit(X_smo, Y_smo)"
   ]
  },
  {
   "cell_type": "code",
   "execution_count": 53,
   "metadata": {},
   "outputs": [
    {
     "name": "stdout",
     "output_type": "stream",
     "text": [
      "{'n_estimators': 150}\n"
     ]
    }
   ],
   "source": [
    "print(gsearch1.best_params_)"
   ]
  },
  {
   "cell_type": "markdown",
   "metadata": {},
   "source": [
    "best n_estimators is 150, then consider other parameters"
   ]
  },
  {
   "cell_type": "code",
   "execution_count": 66,
   "metadata": {},
   "outputs": [
    {
     "name": "stderr",
     "output_type": "stream",
     "text": [
      "F:\\PYTHON\\lib\\site-packages\\sklearn\\model_selection\\_search.py:823: FutureWarning: The parameter 'iid' is deprecated in 0.22 and will be removed in 0.24.\n",
      "  \"removed in 0.24.\", FutureWarning\n"
     ]
    },
    {
     "data": {
      "text/plain": [
       "GridSearchCV(cv=3, error_score=nan,\n",
       "             estimator=RandomForestClassifier(bootstrap=True, ccp_alpha=0.0,\n",
       "                                              class_weight=None,\n",
       "                                              criterion='gini', max_depth=None,\n",
       "                                              max_features='sqrt',\n",
       "                                              max_leaf_nodes=None,\n",
       "                                              max_samples=None,\n",
       "                                              min_impurity_decrease=0.0,\n",
       "                                              min_impurity_split=None,\n",
       "                                              min_samples_leaf=20,\n",
       "                                              min_samples_split=2,\n",
       "                                              min_weight_fraction_leaf=0.0,\n",
       "                                              n_estimators=150, n_jobs=None,\n",
       "                                              oob_score=True, random_state=10,\n",
       "                                              verbose=0, warm_start=False),\n",
       "             iid=False, n_jobs=None,\n",
       "             param_grid={'max_depth': range(3, 14, 2),\n",
       "                         'min_samples_split': range(50, 201, 20)},\n",
       "             pre_dispatch='2*n_jobs', refit=True, return_train_score=False,\n",
       "             scoring='f1', verbose=0)"
      ]
     },
     "execution_count": 66,
     "metadata": {},
     "output_type": "execute_result"
    }
   ],
   "source": [
    "param_test2 = {'max_depth':range(3,14,2), 'min_samples_split':range(50,201,20)}\n",
    "gsearch2 = GridSearchCV(estimator = RandomForestClassifier(n_estimators=150, \n",
    "                                  min_samples_leaf=20, max_features='sqrt', oob_score=True, random_state=10),\n",
    "                        param_grid = param_test2, scoring='f1', iid=False, cv=3)\n",
    "gsearch2.fit(X_smo, Y_smo)"
   ]
  },
  {
   "cell_type": "code",
   "execution_count": 67,
   "metadata": {},
   "outputs": [
    {
     "name": "stdout",
     "output_type": "stream",
     "text": [
      "{'max_depth': 13, 'min_samples_split': 50}\n"
     ]
    }
   ],
   "source": [
    "print(gsearch2.best_params_)"
   ]
  },
  {
   "cell_type": "code",
   "execution_count": 64,
   "metadata": {},
   "outputs": [
    {
     "name": "stderr",
     "output_type": "stream",
     "text": [
      "F:\\PYTHON\\lib\\site-packages\\sklearn\\model_selection\\_search.py:823: FutureWarning: The parameter 'iid' is deprecated in 0.22 and will be removed in 0.24.\n",
      "  \"removed in 0.24.\", FutureWarning\n"
     ]
    },
    {
     "data": {
      "text/plain": [
       "GridSearchCV(cv=5, error_score=nan,\n",
       "             estimator=RandomForestClassifier(bootstrap=True, ccp_alpha=0.0,\n",
       "                                              class_weight=None,\n",
       "                                              criterion='gini', max_depth=13,\n",
       "                                              max_features='sqrt',\n",
       "                                              max_leaf_nodes=None,\n",
       "                                              max_samples=None,\n",
       "                                              min_impurity_decrease=0.0,\n",
       "                                              min_impurity_split=None,\n",
       "                                              min_samples_leaf=1,\n",
       "                                              min_samples_split=50,\n",
       "                                              min_weight_fraction_leaf=0.0,\n",
       "                                              n_estimators=150, n_jobs=None,\n",
       "                                              oob_score=True, random_state=10,\n",
       "                                              verbose=0, warm_start=False),\n",
       "             iid=False, n_jobs=None,\n",
       "             param_grid={'min_samples_leaf': range(10, 60, 10)},\n",
       "             pre_dispatch='2*n_jobs', refit=True, return_train_score=False,\n",
       "             scoring='roc_auc', verbose=0)"
      ]
     },
     "execution_count": 64,
     "metadata": {},
     "output_type": "execute_result"
    }
   ],
   "source": [
    "param_test3 = {'min_samples_leaf':range(10,60,10)}\n",
    "gsearch3 = GridSearchCV(estimator = RandomForestClassifier(n_estimators= 150, max_depth=13, min_samples_split=50,\n",
    "                                  max_features='sqrt', oob_score=True, random_state=10),\n",
    "                        param_grid = param_test3, scoring='roc_auc',iid=False, cv=3)\n",
    "gsearch3.fit(X_smo, Y_smo)"
   ]
  },
  {
   "cell_type": "code",
   "execution_count": 65,
   "metadata": {},
   "outputs": [
    {
     "name": "stdout",
     "output_type": "stream",
     "text": [
      "{'min_samples_leaf': 10}\n"
     ]
    }
   ],
   "source": [
    "print(gsearch3.best_params_)"
   ]
  },
  {
   "cell_type": "code",
   "execution_count": 70,
   "metadata": {},
   "outputs": [
    {
     "name": "stderr",
     "output_type": "stream",
     "text": [
      "F:\\PYTHON\\lib\\site-packages\\sklearn\\model_selection\\_search.py:823: FutureWarning: The parameter 'iid' is deprecated in 0.22 and will be removed in 0.24.\n",
      "  \"removed in 0.24.\", FutureWarning\n"
     ]
    },
    {
     "data": {
      "text/plain": [
       "GridSearchCV(cv=5, error_score=nan,\n",
       "             estimator=RandomForestClassifier(bootstrap=True, ccp_alpha=0.0,\n",
       "                                              class_weight=None,\n",
       "                                              criterion='gini', max_depth=13,\n",
       "                                              max_features='auto',\n",
       "                                              max_leaf_nodes=None,\n",
       "                                              max_samples=None,\n",
       "                                              min_impurity_decrease=0.0,\n",
       "                                              min_impurity_split=None,\n",
       "                                              min_samples_leaf=10,\n",
       "                                              min_samples_split=50,\n",
       "                                              min_weight_fraction_leaf=0.0,\n",
       "                                              n_estimators=150, n_jobs=None,\n",
       "                                              oob_score=True, random_state=10,\n",
       "                                              verbose=0, warm_start=False),\n",
       "             iid=False, n_jobs=None,\n",
       "             param_grid={'max_features': range(5, 24, 2)},\n",
       "             pre_dispatch='2*n_jobs', refit=True, return_train_score=False,\n",
       "             scoring='roc_auc', verbose=0)"
      ]
     },
     "execution_count": 70,
     "metadata": {},
     "output_type": "execute_result"
    }
   ],
   "source": [
    "param_test4 = {'max_features':range(5, 24, 2)}\n",
    "gsearch4 = GridSearchCV(estimator = RandomForestClassifier(n_estimators=150, max_depth=13, min_samples_split=50,\n",
    "                                  min_samples_leaf=10 ,oob_score=True, random_state=10),\n",
    "   param_grid = param_test4, scoring='roc_auc',iid=False, cv=3)\n",
    "gsearch4.fit(X_smo, Y_smo)"
   ]
  },
  {
   "cell_type": "code",
   "execution_count": 71,
   "metadata": {},
   "outputs": [
    {
     "name": "stdout",
     "output_type": "stream",
     "text": [
      "{'max_features': 5}\n"
     ]
    }
   ],
   "source": [
    "print(gsearch4.best_params_)"
   ]
  },
  {
   "cell_type": "code",
   "execution_count": 73,
   "metadata": {},
   "outputs": [
    {
     "name": "stderr",
     "output_type": "stream",
     "text": [
      "F:\\PYTHON\\lib\\site-packages\\sklearn\\model_selection\\_search.py:823: FutureWarning: The parameter 'iid' is deprecated in 0.22 and will be removed in 0.24.\n",
      "  \"removed in 0.24.\", FutureWarning\n"
     ]
    },
    {
     "data": {
      "text/plain": [
       "GridSearchCV(cv=5, error_score=nan,\n",
       "             estimator=RandomForestClassifier(bootstrap=True, ccp_alpha=0.0,\n",
       "                                              class_weight=None,\n",
       "                                              criterion='gini', max_depth=13,\n",
       "                                              max_features='auto',\n",
       "                                              max_leaf_nodes=None,\n",
       "                                              max_samples=None,\n",
       "                                              min_impurity_decrease=0.0,\n",
       "                                              min_impurity_split=None,\n",
       "                                              min_samples_leaf=10,\n",
       "                                              min_samples_split=50,\n",
       "                                              min_weight_fraction_leaf=0.0,\n",
       "                                              n_estimators=150, n_jobs=None,\n",
       "                                              oob_score=True, random_state=10,\n",
       "                                              verbose=0, warm_start=False),\n",
       "             iid=False, n_jobs=None,\n",
       "             param_grid={'max_features': range(5, 24, 2)},\n",
       "             pre_dispatch='2*n_jobs', refit=True, return_train_score=False,\n",
       "             scoring='roc_auc', verbose=0)"
      ]
     },
     "execution_count": 73,
     "metadata": {},
     "output_type": "execute_result"
    }
   ],
   "source": [
    "param_test5 = {'max_features':range(1, 6, 1)}\n",
    "gsearch5 = GridSearchCV(estimator = RandomForestClassifier(n_estimators=150, max_depth=13, min_samples_split=50,\n",
    "                                  min_samples_leaf=10 ,oob_score=True, random_state=10),\n",
    "   param_grid = param_test4, scoring='roc_auc',iid=False, cv=3)\n",
    "gsearch5.fit(X_smo, Y_smo)"
   ]
  },
  {
   "cell_type": "code",
   "execution_count": 74,
   "metadata": {},
   "outputs": [
    {
     "name": "stdout",
     "output_type": "stream",
     "text": [
      "{'max_features': 5}\n"
     ]
    }
   ],
   "source": [
    "print(gsearch5.best_params_)"
   ]
  },
  {
   "cell_type": "code",
   "execution_count": 75,
   "metadata": {},
   "outputs": [
    {
     "name": "stdout",
     "output_type": "stream",
     "text": [
      "F1-score of RadomForest: 0.732 (+/- 0.002)\n",
      "confusion_matrix of RadomForest is:\n",
      " [[140803  32656]\n",
      " [  5154   8142]]\n"
     ]
    }
   ],
   "source": [
    "# testing\n",
    "rf_clf = RandomForestClassifier(n_estimators=150, max_depth=13, min_samples_split=50, max_features=5, oob_score=True, random_state=10)\n",
    "rf_clf.fit(X_smo, Y_smo)\n",
    "Y_prediction_rf = rf_clf.predict(X_test)\n",
    "scores_rf = cross_val_score(rf_clf, X_smo, Y_smo, cv=3,scoring='f1')\n",
    "print(\"F1-score of RadomForest: %0.3f (+/- %0.3f)\" % (scores_rf.mean(), scores_rf.std() * 2))\n",
    "print(\"confusion_matrix of RadomForest is:\\n\",metrics.confusion_matrix(Y_test, Y_prediction_rf))"
   ]
  },
  {
   "cell_type": "markdown",
   "metadata": {},
   "source": [
    "nothing better than AdaBoost, try AdaBoost again"
   ]
  },
  {
   "cell_type": "code",
   "execution_count": 31,
   "metadata": {},
   "outputs": [],
   "source": [
    "from sklearn.model_selection import GridSearchCV\n",
    "from sklearn.externals import joblib\n",
    "# imoprt\n",
    "X = joblib.load('x.pkl')\n",
    "Y = joblib.load('y.pkl')\n",
    "# X_train, X_test, Y_train, Y_test = train_test_split(X, Y, test_size=0.4, random_state=0)"
   ]
  },
  {
   "cell_type": "code",
   "execution_count": 34,
   "metadata": {},
   "outputs": [],
   "source": [
    "# not to record the order number, only record whether to buy or not\n",
    "X[X > 0] = 1\n",
    "\n",
    "X_train, X_test, Y_train, Y_test = train_test_split(X, Y, test_size=0.4, random_state=0)"
   ]
  },
  {
   "cell_type": "code",
   "execution_count": 35,
   "metadata": {},
   "outputs": [],
   "source": [
    "smo = SMOTE(random_state = 0)\n",
    "X_smo, Y_smo = smo.fit_sample(X_train, Y_train)"
   ]
  },
  {
   "cell_type": "code",
   "execution_count": 38,
   "metadata": {},
   "outputs": [
    {
     "name": "stdout",
     "output_type": "stream",
     "text": [
      "confusion_matrix of AdaBoost is:\n",
      " [[138083  35376]\n",
      " [  4694   8602]]\n"
     ]
    }
   ],
   "source": [
    "# adaboost testing\n",
    "AdaBoost_clf = AdaBoostClassifier(n_estimators=10)\n",
    "AdaBoost_clf.fit(X_smo, Y_smo)\n",
    "Y_prediction_AdaBoost = AdaBoost_clf.predict(X_test)\n",
    "print(\"confusion_matrix of AdaBoost is:\\n\",metrics.confusion_matrix(Y_test, Y_prediction_AdaBoost))"
   ]
  },
  {
   "cell_type": "code",
   "execution_count": 41,
   "metadata": {},
   "outputs": [
    {
     "name": "stdout",
     "output_type": "stream",
     "text": [
      "confusion_matrix of AdaBoost is:\n",
      " [[140127  33332]\n",
      " [  4934   8362]]\n"
     ]
    }
   ],
   "source": [
    "# set n_estimators=15\n",
    "AdaBoost_clf = AdaBoostClassifier(n_estimators=15)\n",
    "AdaBoost_clf.fit(X_smo, Y_smo)\n",
    "Y_prediction_AdaBoost = AdaBoost_clf.predict(X_test)\n",
    "print(\"confusion_matrix of AdaBoost is:\\n\",metrics.confusion_matrix(Y_test, Y_prediction_AdaBoost))"
   ]
  },
  {
   "cell_type": "code",
   "execution_count": 42,
   "metadata": {},
   "outputs": [
    {
     "name": "stdout",
     "output_type": "stream",
     "text": [
      "confusion_matrix of AdaBoost is:\n",
      " [[144822  28637]\n",
      " [  5669   7627]]\n"
     ]
    }
   ],
   "source": [
    "# set n_estimators=5\n",
    "AdaBoost_clf = AdaBoostClassifier(n_estimators=5)\n",
    "AdaBoost_clf.fit(X_smo, Y_smo)\n",
    "Y_prediction_AdaBoost = AdaBoost_clf.predict(X_test)\n",
    "print(\"confusion_matrix of AdaBoost is:\\n\",metrics.confusion_matrix(Y_test, Y_prediction_AdaBoost))"
   ]
  },
  {
   "cell_type": "code",
   "execution_count": 45,
   "metadata": {},
   "outputs": [
    {
     "name": "stdout",
     "output_type": "stream",
     "text": [
      "confusion_matrix of AdaBoost is:\n",
      " [[144822  28637]\n",
      " [  5669   7627]]\n"
     ]
    }
   ],
   "source": [
    "# set n_estimators=5\n",
    "AdaBoost_clf = AdaBoostClassifier(n_estimators=5)\n",
    "AdaBoost_clf.fit(X_smo, Y_smo)\n",
    "Y_prediction_AdaBoost = AdaBoost_clf.predict(X_test)\n",
    "print(\"confusion_matrix of AdaBoost is:\\n\",metrics.confusion_matrix(Y_test, Y_prediction_AdaBoost))"
   ]
  },
  {
   "cell_type": "code",
   "execution_count": 62,
   "metadata": {},
   "outputs": [
    {
     "data": {
      "text/plain": [
       "GridSearchCV(cv=3, error_score=nan,\n",
       "             estimator=AdaBoostClassifier(algorithm='SAMME.R',\n",
       "                                          base_estimator=None,\n",
       "                                          learning_rate=1.0, n_estimators=10,\n",
       "                                          random_state=10),\n",
       "             iid='deprecated', n_jobs=None,\n",
       "             param_grid={'learning_rate': array([0.1, 0.2, 0.3, 0.4, 0.5, 0.6, 0.7, 0.8, 0.9, 1. , 1.1, 1.2, 1.3,\n",
       "       1.4, 1.5, 1.6, 1.7, 1.8, 1.9])},\n",
       "             pre_dispatch='2*n_jobs', refit=True, return_train_score=False,\n",
       "             scoring='f1', verbose=0)"
      ]
     },
     "execution_count": 62,
     "metadata": {},
     "output_type": "execute_result"
    }
   ],
   "source": [
    "param_test1 = {'learning_rate':np.arange(0.1, 2, 0.1)}\n",
    "gsearch1 = GridSearchCV(estimator = AdaBoostClassifier(random_state=10, n_estimators=10), \n",
    "                       param_grid = param_test1, scoring='f1', cv=3)\n",
    "gsearch1.fit(X_smo, Y_smo)"
   ]
  },
  {
   "cell_type": "code",
   "execution_count": 63,
   "metadata": {},
   "outputs": [
    {
     "name": "stdout",
     "output_type": "stream",
     "text": [
      "{'learning_rate': 1.3000000000000003}\n"
     ]
    }
   ],
   "source": [
    "print(gsearch1.best_params_)"
   ]
  },
  {
   "cell_type": "code",
   "execution_count": 64,
   "metadata": {},
   "outputs": [
    {
     "name": "stdout",
     "output_type": "stream",
     "text": [
      "confusion_matrix of AdaBoost is:\n",
      " [[138925  34534]\n",
      " [  4809   8487]]\n"
     ]
    }
   ],
   "source": [
    "# set n_estimators=5\n",
    "AdaBoost_clf = AdaBoostClassifier(n_estimators=10, learning_rate=1.3)\n",
    "AdaBoost_clf.fit(X_smo, Y_smo)\n",
    "Y_prediction_AdaBoost = AdaBoost_clf.predict(X_test)\n",
    "print(\"confusion_matrix of AdaBoost is:\\n\",metrics.confusion_matrix(Y_test, Y_prediction_AdaBoost))"
   ]
  },
  {
   "cell_type": "code",
   "execution_count": 65,
   "metadata": {},
   "outputs": [
    {
     "data": {
      "text/plain": [
       "GridSearchCV(cv=3, error_score=nan,\n",
       "             estimator=AdaBoostClassifier(algorithm='SAMME.R',\n",
       "                                          base_estimator=None,\n",
       "                                          learning_rate=1.0, n_estimators=10,\n",
       "                                          random_state=10),\n",
       "             iid='deprecated', n_jobs=None,\n",
       "             param_grid={'learning_rate': array([0.1, 0.2, 0.3, 0.4, 0.5, 0.6, 0.7, 0.8, 0.9, 1. , 1.1, 1.2, 1.3,\n",
       "       1.4, 1.5, 1.6, 1.7, 1.8, 1.9])},\n",
       "             pre_dispatch='2*n_jobs', refit=True, return_train_score=False,\n",
       "             scoring='roc_auc', verbose=0)"
      ]
     },
     "execution_count": 65,
     "metadata": {},
     "output_type": "execute_result"
    }
   ],
   "source": [
    "param_test2 = {'learning_rate':np.arange(0.1, 2, 0.1)}\n",
    "gsearch2 = GridSearchCV(estimator = AdaBoostClassifier(random_state=10, n_estimators=10), \n",
    "                       param_grid = param_test1, scoring='roc_auc', cv=3)\n",
    "gsearch2.fit(X_smo, Y_smo)"
   ]
  },
  {
   "cell_type": "code",
   "execution_count": 66,
   "metadata": {},
   "outputs": [
    {
     "name": "stdout",
     "output_type": "stream",
     "text": [
      "{'learning_rate': 0.6}\n"
     ]
    }
   ],
   "source": [
    "print(gsearch2.best_params_)"
   ]
  },
  {
   "cell_type": "code",
   "execution_count": 67,
   "metadata": {},
   "outputs": [
    {
     "name": "stdout",
     "output_type": "stream",
     "text": [
      "confusion_matrix of AdaBoost is:\n",
      " [[140851  32608]\n",
      " [  4943   8353]]\n"
     ]
    }
   ],
   "source": [
    "AdaBoost_clf = AdaBoostClassifier(n_estimators=10, learning_rate=0.6)\n",
    "AdaBoost_clf.fit(X_smo, Y_smo)\n",
    "Y_prediction_AdaBoost = AdaBoost_clf.predict(X_test)\n",
    "print(\"confusion_matrix of AdaBoost is:\\n\",metrics.confusion_matrix(Y_test, Y_prediction_AdaBoost))"
   ]
  },
  {
   "cell_type": "code",
   "execution_count": null,
   "metadata": {},
   "outputs": [],
   "source": []
  }
 ],
 "metadata": {
  "colab": {
   "machine_shape": "hm",
   "name": "WISERCLUB 2019-2020 Final.ipynb",
   "provenance": []
  },
  "kernelspec": {
   "display_name": "Python 3",
   "language": "python",
   "name": "python3"
  },
  "language_info": {
   "codemirror_mode": {
    "name": "ipython",
    "version": 3
   },
   "file_extension": ".py",
   "mimetype": "text/x-python",
   "name": "python",
   "nbconvert_exporter": "python",
   "pygments_lexer": "ipython3",
   "version": "3.6.5"
  }
 },
 "nbformat": 4,
 "nbformat_minor": 4
}
